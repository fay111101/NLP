{
 "cells": [
  {
   "cell_type": "code",
   "execution_count": 9,
   "metadata": {
    "collapsed": true
   },
   "outputs": [],
   "source": [
    "\n",
    "import sys\n",
    "# import os\n",
    "# print(os.getcwd())\n",
    "# print(os.path.abspath('.'))\n",
    "# print(os.path.abspath('..'))\n",
    "import jieba\n",
    "with open('./demo/data/nlp_test0.txt') as f:\n",
    "    document=f.read()\n",
    "    # python2 \n",
    "    # document_decode=document.decode('GBK')\n",
    "    # document_cut=jieba.cut(document_decode)\n",
    "    document_cut=jieba.cut(document)\n",
    "    result=' '.join(document_cut)\n",
    "    # result=result.encode('utf-8')\n",
    "    with open('./demo/data/nlp_test1.txt','w') as f2:\n",
    "        f2.write(result)\n",
    "        \n",
    "    f.close()\n",
    "    f2.close()"
   ]
  },
  {
   "cell_type": "code",
   "execution_count": 10,
   "metadata": {},
   "outputs": [
    {
     "data": {
      "text/plain": [
       "2"
      ]
     },
     "execution_count": 10,
     "metadata": {},
     "output_type": "execute_result"
    }
   ],
   "source": [
    "jieba.suggest_freq('沙瑞金', True)\n",
    "jieba.suggest_freq('易学习', True)\n",
    "jieba.suggest_freq('王大路', True)\n",
    "jieba.suggest_freq('京州', True)"
   ]
  },
  {
   "cell_type": "code",
   "execution_count": 12,
   "metadata": {},
   "outputs": [],
   "source": [
    "with open('./demo/data/nlp_test0.txt') as f:\n",
    "    document=f.read()\n",
    "    document_cut=jieba.cut(document)\n",
    "    result=' '.join(document_cut)\n",
    "    with open('./demo/data/nlp_test1.txt','w') as f2:\n",
    "        f2.write(result)\n",
    "\n",
    "f.close()\n",
    "f2.close()"
   ]
  },
  {
   "cell_type": "code",
   "execution_count": 13,
   "metadata": {},
   "outputs": [],
   "source": [
    "with open('./demo/data/nlp_test2.txt') as f:\n",
    "    document2=f.read()\n",
    "    document2_cut=jieba.cut(document2)\n",
    "    result=' '.join(document2_cut)\n",
    "    with open('./demo/data/nlp_test3.txt','w') as f2:\n",
    "        f2.write(result)\n",
    "f.close()\n",
    "f2.close()"
   ]
  },
  {
   "cell_type": "code",
   "execution_count": 15,
   "metadata": {},
   "outputs": [],
   "source": [
    "# 引入停用词\n",
    "stopword_path='./demo/data/stop_words.txt'\n",
    "stopword_dic=open(stopword_path,'rb')\n",
    "stopword_content=stopword_dic.read()\n",
    "# print(stopword_content)\n",
    "# 将停用词表转换成List\n",
    "stopword_list=stopword_content.splitlines()\n",
    "# print(stopword_list)\n",
    "stopword_dic.close()"
   ]
  },
  {
   "cell_type": "code",
   "execution_count": 18,
   "metadata": {},
   "outputs": [
    {
     "name": "stdout",
     "output_type": "stream",
     "text": [
      "                    沙瑞金 赞叹 易学习 的 胸怀 ， 是 金山 的 百姓 有福 ， 可是 这件 事对 李达康 的 触动 很大 。 易学习 又 回忆起 他们 三人 分开 的 前一晚 ， 大家 一起 喝酒 话别 ， 易学习 被 降职 到 道口 县当 县长 ， 王大路 下海经商 ， 李达康 连连 赔礼道歉 ， 觉得 对不起 大家 ， 他 最 对不起 的 是 王大路 ， 就 和 易学习 一起 给 王大路 凑 了 5 万块 钱 ， 王大路 自己 东挪西撮 了 5 万块 ， 开始 下海经商 。 没想到 后来 王大路 竟然 做 得 风生水 起 。 沙瑞金 觉得 他们 三人 ， 在 困难 时期 还 能 以沫 相助 ， 很 不 容易 。\n沙瑞金 向 毛娅 打听 他们 家 在 京州 的 别墅 ， 毛娅 笑 着 说 ， 王大路 事业有成 之后 ， 要 给 欧阳 菁 和 她 公司 的 股权 ， 她们 没有 要 ， 王大路 就 在 京州 帝豪园 买 了 三套 别墅 ， 可是 李达康 和 易学习 都 不要 ， 这些 房子 都 在 王大路 的 名下 ， 欧阳 菁 好像 去 住 过 ， 毛娅 不想 去 ， 她 觉得 房子 太大 很 浪费 ， 自己 家住 得 就 很 踏实 。\n"
     ]
    }
   ],
   "source": [
    "with open('./demo/data/nlp_test1.txt') as f3:\n",
    "    result1=f3.read()\n",
    "print(result1)\n",
    "with open('./demo/data/nlp_test3.txt') as f4:\n",
    "    result2=f4.read()\n",
    "print(result2)"
   ]
  },
  {
   "cell_type": "code",
   "execution_count": 19,
   "metadata": {},
   "outputs": [
    {
     "name": "stdout",
     "output_type": "stream",
     "text": [
      "  (0, 44)\t0.15446743493280246\n  (0, 59)\t0.10854929506851102\n  (0, 39)\t0.3089348698656049\n  (0, 53)\t0.10854929506851102\n  (0, 65)\t0.10854929506851102\n  (0, 49)\t0.10854929506851102\n  (0, 40)\t0.10854929506851102\n  (0, 20)\t0.07723371746640123\n  (0, 62)\t0.10854929506851102\n  (0, 10)\t0.10854929506851102\n  (0, 41)\t0.15446743493280246\n  (0, 56)\t0.10854929506851102\n  (0, 35)\t0.10854929506851102\n  (0, 24)\t0.10854929506851102\n  (0, 12)\t0.15446743493280246\n  (0, 2)\t0.21709859013702204\n  (0, 15)\t0.10854929506851102\n  (0, 17)\t0.10854929506851102\n  (0, 26)\t0.21709859013702204\n  (0, 0)\t0.21709859013702204\n  (0, 23)\t0.10854929506851102\n  (0, 57)\t0.10854929506851102\n  (0, 66)\t0.10854929506851102\n  (0, 64)\t0.10854929506851102\n  (0, 18)\t0.10854929506851102\n  :\t:\n  (1, 55)\t0.09953364110656572\n  (1, 54)\t0.09953364110656572\n  (1, 43)\t0.41967317897471584\n  (1, 37)\t0.13989105965823861\n  (1, 11)\t0.27978211931647723\n  (1, 16)\t0.27978211931647723\n  (1, 9)\t0.13989105965823861\n  (1, 8)\t0.13989105965823861\n  (1, 42)\t0.27978211931647723\n  (1, 14)\t0.13989105965823861\n  (1, 52)\t0.13989105965823861\n  (1, 28)\t0.13989105965823861\n  (1, 46)\t0.13989105965823861\n  (1, 33)\t0.13989105965823861\n  (1, 3)\t0.13989105965823861\n  (1, 6)\t0.13989105965823861\n  (1, 61)\t0.13989105965823861\n  (1, 36)\t0.27978211931647723\n  (1, 21)\t0.13989105965823861\n  (1, 29)\t0.13989105965823861\n  (1, 5)\t0.13989105965823861\n  (1, 27)\t0.13989105965823861\n  (1, 47)\t0.13989105965823861\n  (1, 30)\t0.13989105965823861\n  (1, 60)\t0.13989105965823861\n"
     ]
    }
   ],
   "source": [
    "# 向量化 TF_IDF 标准化\n",
    "from sklearn.feature_extraction.text import TfidfVectorizer\n",
    "corpus=[result1,result2]\n",
    "vector=TfidfVectorizer(stop_words=stopword_list)\n",
    "tfidf=vector.fit_transform(corpus)\n",
    "print(tfidf)"
   ]
  },
  {
   "cell_type": "code",
   "execution_count": 20,
   "metadata": {},
   "outputs": [
    {
     "name": "stdout",
     "output_type": "stream",
     "text": [
      "-------第 0 段文本的词语tf-idf权重------\n一起 0.21709859013702204\n万块 0.21709859013702204\n三人 0.21709859013702204\n三套 0.0\n下海经商 0.21709859013702204\n不想 0.0\n不要 0.0\n东挪西撮 0.10854929506851102\n之后 0.0\n事业有成 0.0\n事对 0.10854929506851102\n京州 0.0\n他们 0.15446743493280246\n以沫 0.10854929506851102\n公司 0.0\n分开 0.10854929506851102\n别墅 0.0\n前一晚 0.10854929506851102\n县当 0.10854929506851102\n县长 0.10854929506851102\n可是 0.07723371746640123\n名下 0.0\n后来 0.10854929506851102\n喝酒 0.10854929506851102\n回忆起 0.10854929506851102\n困难 0.10854929506851102\n大家 0.21709859013702204\n太大 0.0\n她们 0.0\n好像 0.0\n家住 0.0\n容易 0.10854929506851102\n对不起 0.21709859013702204\n帝豪园 0.0\n开始 0.10854929506851102\n很大 0.10854929506851102\n房子 0.0\n打听 0.0\n时期 0.10854929506851102\n易学习 0.3089348698656049\n有福 0.10854929506851102\n李达康 0.15446743493280246\n欧阳 0.0\n毛娅 0.0\n沙瑞金 0.15446743493280246\n没想到 0.10854929506851102\n没有 0.0\n浪费 0.0\n王大路 0.38616858733200615\n百姓 0.10854929506851102\n相助 0.10854929506851102\n竟然 0.10854929506851102\n股权 0.0\n胸怀 0.10854929506851102\n自己 0.07723371746640123\n觉得 0.15446743493280246\n触动 0.10854929506851102\n话别 0.10854929506851102\n赔礼道歉 0.10854929506851102\n赞叹 0.10854929506851102\n踏实 0.0\n这些 0.0\n这件 0.10854929506851102\n连连 0.10854929506851102\n道口 0.10854929506851102\n金山 0.10854929506851102\n降职 0.10854929506851102\n风生水 0.10854929506851102\n-------第 1 段文本的词语tf-idf权重------\n一起 0.0\n万块 0.0\n三人 0.0\n三套 0.13989105965823861\n下海经商 0.0\n不想 0.13989105965823861\n不要 0.13989105965823861\n东挪西撮 0.0\n之后 0.13989105965823861\n事业有成 0.13989105965823861\n事对 0.0\n京州 0.27978211931647723\n他们 0.09953364110656572\n以沫 0.0\n公司 0.13989105965823861\n分开 0.0\n别墅 0.27978211931647723\n前一晚 0.0\n县当 0.0\n县长 0.0\n可是 0.09953364110656572\n名下 0.13989105965823861\n后来 0.0\n喝酒 0.0\n回忆起 0.0\n困难 0.0\n大家 0.0\n太大 0.13989105965823861\n她们 0.13989105965823861\n好像 0.13989105965823861\n家住 0.13989105965823861\n容易 0.0\n对不起 0.0\n帝豪园 0.13989105965823861\n开始 0.0\n很大 0.0\n房子 0.27978211931647723\n打听 0.13989105965823861\n时期 0.0\n易学习 0.09953364110656572\n有福 0.0\n李达康 0.09953364110656572\n欧阳 0.27978211931647723\n毛娅 0.41967317897471584\n沙瑞金 0.09953364110656572\n没想到 0.0\n没有 0.13989105965823861\n浪费 0.13989105965823861\n王大路 0.2986009233196972\n百姓 0.0\n相助 0.0\n竟然 0.0\n股权 0.13989105965823861\n胸怀 0.0\n自己 0.09953364110656572\n觉得 0.09953364110656572\n触动 0.0\n话别 0.0\n赔礼道歉 0.0\n赞叹 0.0\n踏实 0.13989105965823861\n这些 0.13989105965823861\n这件 0.0\n连连 0.0\n道口 0.0\n金山 0.0\n降职 0.0\n风生水 0.0\n"
     ]
    }
   ],
   "source": [
    "# 每次词和TF-IDF的对应关系\n",
    "wordlist=vector.get_feature_names()\n",
    "# tf-idf矩阵 元素a[i][j]表示j词在i类文本中的tf-idf权重\n",
    "weightlist=tfidf.toarray()\n",
    "for i in range(len(weightlist)):\n",
    "    print(\"-------第\",i,\"段文本的词语tf-idf权重------\")\n",
    "    for j in range(len(wordlist)):\n",
    "        print(wordlist[j],weightlist[i][j])"
   ]
  },
  {
   "cell_type": "code",
   "execution_count": null,
   "metadata": {},
   "outputs": [],
   "source": []
  }
 ],
 "metadata": {
  "kernelspec": {
   "display_name": "Python 2",
   "language": "python",
   "name": "python2"
  },
  "language_info": {
   "codemirror_mode": {
    "name": "ipython",
    "version": 2
   },
   "file_extension": ".py",
   "mimetype": "text/x-python",
   "name": "python",
   "nbconvert_exporter": "python",
   "pygments_lexer": "ipython2",
   "version": "2.7.6"
  }
 },
 "nbformat": 4,
 "nbformat_minor": 0
}
